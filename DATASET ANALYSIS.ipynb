{
 "cells": [
  {
   "cell_type": "markdown",
   "metadata": {},
   "source": [
    "__Submitted by:- Harshada Jadhav\n",
    "Reg.no:- 19111544 Class:4BBA-C__"
   ]
  },
  {
   "cell_type": "markdown",
   "metadata": {},
   "source": [
    "__Description about the dataset__"
   ]
  },
  {
   "cell_type": "code",
   "execution_count": 1,
   "metadata": {},
   "outputs": [],
   "source": [
    "import pandas as pd\n",
    "import numpy as np\n",
    "import math\n",
    "from pathlib import Path\n",
    "from pathlib import Path\n",
    "import plotly.graph_objs as go\n",
    "import plotly.express as px\n",
    "from plotly.subplots import make_subplots\n",
    "from sklearn.pipeline import Pipeline\n",
    "from sklearn.model_selection import StratifiedShuffleSplit\n",
    "from sklearn.base import BaseEstimator, TransformerMixin\n",
    "import matplotlib.pyplot as plt\n",
    "\n",
    "import warnings\n",
    "warnings.filterwarnings('ignore')\n"
   ]
  },
  {
   "cell_type": "markdown",
   "metadata": {},
   "source": [
    "__Basic Description__"
   ]
  },
  {
   "cell_type": "code",
   "execution_count": 2,
   "metadata": {},
   "outputs": [
    {
     "data": {
      "text/html": [
       "<div>\n",
       "<style scoped>\n",
       "    .dataframe tbody tr th:only-of-type {\n",
       "        vertical-align: middle;\n",
       "    }\n",
       "\n",
       "    .dataframe tbody tr th {\n",
       "        vertical-align: top;\n",
       "    }\n",
       "\n",
       "    .dataframe thead th {\n",
       "        text-align: right;\n",
       "    }\n",
       "</style>\n",
       "<table border=\"1\" class=\"dataframe\">\n",
       "  <thead>\n",
       "    <tr style=\"text-align: right;\">\n",
       "      <th></th>\n",
       "      <th>R&amp;D Spend</th>\n",
       "      <th>Administration</th>\n",
       "      <th>Marketing Spend</th>\n",
       "      <th>State</th>\n",
       "      <th>Profit</th>\n",
       "    </tr>\n",
       "  </thead>\n",
       "  <tbody>\n",
       "    <tr>\n",
       "      <th>0</th>\n",
       "      <td>165349.20</td>\n",
       "      <td>136897.80</td>\n",
       "      <td>471784.10</td>\n",
       "      <td>New York</td>\n",
       "      <td>192261.83</td>\n",
       "    </tr>\n",
       "    <tr>\n",
       "      <th>1</th>\n",
       "      <td>162597.70</td>\n",
       "      <td>151377.59</td>\n",
       "      <td>443898.53</td>\n",
       "      <td>California</td>\n",
       "      <td>191792.06</td>\n",
       "    </tr>\n",
       "    <tr>\n",
       "      <th>2</th>\n",
       "      <td>153441.51</td>\n",
       "      <td>101145.55</td>\n",
       "      <td>407934.54</td>\n",
       "      <td>Florida</td>\n",
       "      <td>191050.39</td>\n",
       "    </tr>\n",
       "    <tr>\n",
       "      <th>3</th>\n",
       "      <td>144372.41</td>\n",
       "      <td>118671.85</td>\n",
       "      <td>383199.62</td>\n",
       "      <td>New York</td>\n",
       "      <td>182901.99</td>\n",
       "    </tr>\n",
       "    <tr>\n",
       "      <th>4</th>\n",
       "      <td>142107.34</td>\n",
       "      <td>91391.77</td>\n",
       "      <td>366168.42</td>\n",
       "      <td>Florida</td>\n",
       "      <td>166187.94</td>\n",
       "    </tr>\n",
       "  </tbody>\n",
       "</table>\n",
       "</div>"
      ],
      "text/plain": [
       "   R&D Spend  Administration  Marketing Spend       State     Profit\n",
       "0  165349.20       136897.80        471784.10    New York  192261.83\n",
       "1  162597.70       151377.59        443898.53  California  191792.06\n",
       "2  153441.51       101145.55        407934.54     Florida  191050.39\n",
       "3  144372.41       118671.85        383199.62    New York  182901.99\n",
       "4  142107.34        91391.77        366168.42     Florida  166187.94"
      ]
     },
     "execution_count": 2,
     "metadata": {},
     "output_type": "execute_result"
    }
   ],
   "source": [
    "df = pd.read_csv(r'C:\\Users\\hp\\Desktop\\ESE_2.csv')\n",
    "df.head() #gives whole idea about the dataset"
   ]
  },
  {
   "cell_type": "code",
   "execution_count": 3,
   "metadata": {},
   "outputs": [
    {
     "data": {
      "text/plain": [
       "(1000, 5)"
      ]
     },
     "execution_count": 3,
     "metadata": {},
     "output_type": "execute_result"
    }
   ],
   "source": [
    "df.shape #describes the number of columns and rows"
   ]
  },
  {
   "cell_type": "code",
   "execution_count": 5,
   "metadata": {},
   "outputs": [
    {
     "data": {
      "text/plain": [
       "Index(['R&D Spend', 'Administration', 'Marketing Spend', 'State', 'Profit'], dtype='object')"
      ]
     },
     "execution_count": 5,
     "metadata": {},
     "output_type": "execute_result"
    }
   ],
   "source": [
    "df.columns #all the columns in dataset"
   ]
  },
  {
   "cell_type": "code",
   "execution_count": 10,
   "metadata": {},
   "outputs": [
    {
     "data": {
      "text/html": [
       "<div>\n",
       "<style scoped>\n",
       "    .dataframe tbody tr th:only-of-type {\n",
       "        vertical-align: middle;\n",
       "    }\n",
       "\n",
       "    .dataframe tbody tr th {\n",
       "        vertical-align: top;\n",
       "    }\n",
       "\n",
       "    .dataframe thead th {\n",
       "        text-align: right;\n",
       "    }\n",
       "</style>\n",
       "<table border=\"1\" class=\"dataframe\">\n",
       "  <thead>\n",
       "    <tr style=\"text-align: right;\">\n",
       "      <th></th>\n",
       "      <th>R&amp;D Spend</th>\n",
       "      <th>Administration</th>\n",
       "      <th>Marketing Spend</th>\n",
       "      <th>Profit</th>\n",
       "    </tr>\n",
       "  </thead>\n",
       "  <tbody>\n",
       "    <tr>\n",
       "      <th>count</th>\n",
       "      <td>1000.000000</td>\n",
       "      <td>1000.000000</td>\n",
       "      <td>1000.000000</td>\n",
       "      <td>1000.000000</td>\n",
       "    </tr>\n",
       "    <tr>\n",
       "      <th>mean</th>\n",
       "      <td>81668.927200</td>\n",
       "      <td>122963.897612</td>\n",
       "      <td>226205.058419</td>\n",
       "      <td>119546.164656</td>\n",
       "    </tr>\n",
       "    <tr>\n",
       "      <th>std</th>\n",
       "      <td>46537.567891</td>\n",
       "      <td>12613.927535</td>\n",
       "      <td>91578.393542</td>\n",
       "      <td>42888.633848</td>\n",
       "    </tr>\n",
       "    <tr>\n",
       "      <th>min</th>\n",
       "      <td>0.000000</td>\n",
       "      <td>51283.140000</td>\n",
       "      <td>0.000000</td>\n",
       "      <td>14681.400000</td>\n",
       "    </tr>\n",
       "    <tr>\n",
       "      <th>25%</th>\n",
       "      <td>43084.500000</td>\n",
       "      <td>116640.684850</td>\n",
       "      <td>150969.584600</td>\n",
       "      <td>85943.198543</td>\n",
       "    </tr>\n",
       "    <tr>\n",
       "      <th>50%</th>\n",
       "      <td>79936.000000</td>\n",
       "      <td>122421.612150</td>\n",
       "      <td>224517.887350</td>\n",
       "      <td>117641.466300</td>\n",
       "    </tr>\n",
       "    <tr>\n",
       "      <th>75%</th>\n",
       "      <td>124565.500000</td>\n",
       "      <td>129139.118000</td>\n",
       "      <td>308189.808525</td>\n",
       "      <td>155577.107425</td>\n",
       "    </tr>\n",
       "    <tr>\n",
       "      <th>max</th>\n",
       "      <td>165349.200000</td>\n",
       "      <td>321652.140000</td>\n",
       "      <td>471784.100000</td>\n",
       "      <td>476485.430000</td>\n",
       "    </tr>\n",
       "  </tbody>\n",
       "</table>\n",
       "</div>"
      ],
      "text/plain": [
       "           R&D Spend  Administration  Marketing Spend         Profit\n",
       "count    1000.000000     1000.000000      1000.000000    1000.000000\n",
       "mean    81668.927200   122963.897612    226205.058419  119546.164656\n",
       "std     46537.567891    12613.927535     91578.393542   42888.633848\n",
       "min         0.000000    51283.140000         0.000000   14681.400000\n",
       "25%     43084.500000   116640.684850    150969.584600   85943.198543\n",
       "50%     79936.000000   122421.612150    224517.887350  117641.466300\n",
       "75%    124565.500000   129139.118000    308189.808525  155577.107425\n",
       "max    165349.200000   321652.140000    471784.100000  476485.430000"
      ]
     },
     "execution_count": 10,
     "metadata": {},
     "output_type": "execute_result"
    }
   ],
   "source": [
    "df.describe()#describes the dataset and what is it is about"
   ]
  },
  {
   "cell_type": "code",
   "execution_count": 13,
   "metadata": {},
   "outputs": [
    {
     "data": {
      "text/plain": [
       "R&D Spend          float64\n",
       "Administration     float64\n",
       "Marketing Spend    float64\n",
       "State               object\n",
       "Profit             float64\n",
       "dtype: object"
      ]
     },
     "execution_count": 13,
     "metadata": {},
     "output_type": "execute_result"
    }
   ],
   "source": [
    "df.dtypes"
   ]
  },
  {
   "cell_type": "markdown",
   "metadata": {},
   "source": [
    "__Handling Missing Values__"
   ]
  },
  {
   "cell_type": "code",
   "execution_count": 14,
   "metadata": {},
   "outputs": [
    {
     "data": {
      "text/html": [
       "<div>\n",
       "<style scoped>\n",
       "    .dataframe tbody tr th:only-of-type {\n",
       "        vertical-align: middle;\n",
       "    }\n",
       "\n",
       "    .dataframe tbody tr th {\n",
       "        vertical-align: top;\n",
       "    }\n",
       "\n",
       "    .dataframe thead th {\n",
       "        text-align: right;\n",
       "    }\n",
       "</style>\n",
       "<table border=\"1\" class=\"dataframe\">\n",
       "  <thead>\n",
       "    <tr style=\"text-align: right;\">\n",
       "      <th></th>\n",
       "      <th>column_name</th>\n",
       "      <th>missing_count</th>\n",
       "    </tr>\n",
       "  </thead>\n",
       "  <tbody>\n",
       "    <tr>\n",
       "      <th>0</th>\n",
       "      <td>R&amp;D Spend</td>\n",
       "      <td>0</td>\n",
       "    </tr>\n",
       "    <tr>\n",
       "      <th>1</th>\n",
       "      <td>Administration</td>\n",
       "      <td>0</td>\n",
       "    </tr>\n",
       "    <tr>\n",
       "      <th>2</th>\n",
       "      <td>Marketing Spend</td>\n",
       "      <td>0</td>\n",
       "    </tr>\n",
       "    <tr>\n",
       "      <th>3</th>\n",
       "      <td>State</td>\n",
       "      <td>0</td>\n",
       "    </tr>\n",
       "    <tr>\n",
       "      <th>4</th>\n",
       "      <td>Profit</td>\n",
       "      <td>0</td>\n",
       "    </tr>\n",
       "  </tbody>\n",
       "</table>\n",
       "</div>"
      ],
      "text/plain": [
       "       column_name  missing_count\n",
       "0        R&D Spend              0\n",
       "1   Administration              0\n",
       "2  Marketing Spend              0\n",
       "3            State              0\n",
       "4           Profit              0"
      ]
     },
     "execution_count": 14,
     "metadata": {},
     "output_type": "execute_result"
    }
   ],
   "source": [
    "missing = df.isnull().sum(axis=0).reset_index()\n",
    "missing.columns = ['column_name', 'missing_count']\n",
    "missing"
   ]
  },
  {
   "cell_type": "markdown",
   "metadata": {},
   "source": [
    "_Here we can see that there are no missing values in the data_"
   ]
  },
  {
   "cell_type": "markdown",
   "metadata": {},
   "source": [
    "__Handling of Outliers__"
   ]
  },
  {
   "cell_type": "markdown",
   "metadata": {},
   "source": [
    "__Identitying Outliers through Visualization and treating them by Replacing Outliers with Median Values__\n"
   ]
  },
  {
   "cell_type": "code",
   "execution_count": 23,
   "metadata": {},
   "outputs": [
    {
     "data": {
      "image/png": "[encoded data removed]",
      "text/plain": [
       "<Figure size 432x288 with 1 Axes>"
      ]
     },
     "metadata": {
      "needs_background": "light"
     },
     "output_type": "display_data"
    }
   ],
   "source": [
    "plt.boxplot(df[\"R&D Spend\"])\n",
    "plt.show()\n"
   ]
  },
  {
   "cell_type": "markdown",
   "metadata": {},
   "source": [
    "_No outliers in Column of R&D_"
   ]
  },
  {
   "cell_type": "code",
   "execution_count": 24,
   "metadata": {},
   "outputs": [
    {
     "data": {
      "image/png": "[encoded data removed]",
      "text/plain": [
       "<Figure size 432x288 with 1 Axes>"
      ]
     },
     "metadata": {
      "needs_background": "light"
     },
     "output_type": "display_data"
    }
   ],
   "source": [
    "plt.boxplot(df[\"Administration\"])\n",
    "plt.show()"
   ]
  },
  {
   "cell_type": "code",
   "execution_count": 28,
   "metadata": {},
   "outputs": [
    {
     "name": "stdout",
     "output_type": "stream",
     "text": [
      "122421.61215\n",
      "133373.96525\n"
     ]
    },
    {
     "data": {
      "text/html": [
       "<div>\n",
       "<style scoped>\n",
       "    .dataframe tbody tr th:only-of-type {\n",
       "        vertical-align: middle;\n",
       "    }\n",
       "\n",
       "    .dataframe tbody tr th {\n",
       "        vertical-align: top;\n",
       "    }\n",
       "\n",
       "    .dataframe thead th {\n",
       "        text-align: right;\n",
       "    }\n",
       "</style>\n",
       "<table border=\"1\" class=\"dataframe\">\n",
       "  <thead>\n",
       "    <tr style=\"text-align: right;\">\n",
       "      <th></th>\n",
       "      <th>R&amp;D Spend</th>\n",
       "      <th>Administration</th>\n",
       "      <th>Marketing Spend</th>\n",
       "      <th>Profit</th>\n",
       "    </tr>\n",
       "  </thead>\n",
       "  <tbody>\n",
       "    <tr>\n",
       "      <th>count</th>\n",
       "      <td>1000.000000</td>\n",
       "      <td>1000.0</td>\n",
       "      <td>1000.000000</td>\n",
       "      <td>1000.000000</td>\n",
       "    </tr>\n",
       "    <tr>\n",
       "      <th>mean</th>\n",
       "      <td>81668.927200</td>\n",
       "      <td>128.0</td>\n",
       "      <td>226205.058419</td>\n",
       "      <td>119546.164656</td>\n",
       "    </tr>\n",
       "    <tr>\n",
       "      <th>std</th>\n",
       "      <td>46537.567891</td>\n",
       "      <td>0.0</td>\n",
       "      <td>91578.393542</td>\n",
       "      <td>42888.633848</td>\n",
       "    </tr>\n",
       "    <tr>\n",
       "      <th>min</th>\n",
       "      <td>0.000000</td>\n",
       "      <td>128.0</td>\n",
       "      <td>0.000000</td>\n",
       "      <td>14681.400000</td>\n",
       "    </tr>\n",
       "    <tr>\n",
       "      <th>25%</th>\n",
       "      <td>43084.500000</td>\n",
       "      <td>128.0</td>\n",
       "      <td>150969.584600</td>\n",
       "      <td>85943.198543</td>\n",
       "    </tr>\n",
       "    <tr>\n",
       "      <th>50%</th>\n",
       "      <td>79936.000000</td>\n",
       "      <td>128.0</td>\n",
       "      <td>224517.887350</td>\n",
       "      <td>117641.466300</td>\n",
       "    </tr>\n",
       "    <tr>\n",
       "      <th>75%</th>\n",
       "      <td>124565.500000</td>\n",
       "      <td>128.0</td>\n",
       "      <td>308189.808525</td>\n",
       "      <td>155577.107425</td>\n",
       "    </tr>\n",
       "    <tr>\n",
       "      <th>max</th>\n",
       "      <td>165349.200000</td>\n",
       "      <td>128.0</td>\n",
       "      <td>471784.100000</td>\n",
       "      <td>476485.430000</td>\n",
       "    </tr>\n",
       "  </tbody>\n",
       "</table>\n",
       "</div>"
      ],
      "text/plain": [
       "           R&D Spend  Administration  Marketing Spend         Profit\n",
       "count    1000.000000          1000.0      1000.000000    1000.000000\n",
       "mean    81668.927200           128.0    226205.058419  119546.164656\n",
       "std     46537.567891             0.0     91578.393542   42888.633848\n",
       "min         0.000000           128.0         0.000000   14681.400000\n",
       "25%     43084.500000           128.0    150969.584600   85943.198543\n",
       "50%     79936.000000           128.0    224517.887350  117641.466300\n",
       "75%    124565.500000           128.0    308189.808525  155577.107425\n",
       "max    165349.200000           128.0    471784.100000  476485.430000"
      ]
     },
     "execution_count": 28,
     "metadata": {},
     "output_type": "execute_result"
    }
   ],
   "source": [
    "print(df['Administration'].quantile(0.50)) \n",
    "print(df['Administration'].quantile(0.95)) \n",
    "df['Administration'] = np.where(df['Administration'] > 297, 128, df['Administration'])\n",
    "df.describe()"
   ]
  },
  {
   "cell_type": "code",
   "execution_count": 29,
   "metadata": {},
   "outputs": [
    {
     "data": {
      "image/png": "[encoded data removed]",
      "text/plain": [
       "<Figure size 432x288 with 1 Axes>"
      ]
     },
     "metadata": {
      "needs_background": "light"
     },
     "output_type": "display_data"
    }
   ],
   "source": [
    "plt.boxplot(df[\"Administration\"])\n",
    "plt.show()"
   ]
  },
  {
   "cell_type": "markdown",
   "metadata": {},
   "source": [
    "_So,here we can see that the outliers are treated_"
   ]
  },
  {
   "cell_type": "code",
   "execution_count": 26,
   "metadata": {},
   "outputs": [
    {
     "data": {
      "image/png": "[encoded data removed]",
      "text/plain": [
       "<Figure size 432x288 with 1 Axes>"
      ]
     },
     "metadata": {
      "needs_background": "light"
     },
     "output_type": "display_data"
    }
   ],
   "source": [
    "plt.boxplot(df[\"Marketing Spend\"])\n",
    "plt.show()"
   ]
  },
  {
   "cell_type": "markdown",
   "metadata": {},
   "source": [
    "_No outliers in Column of Marketing Spending_"
   ]
  },
  {
   "cell_type": "code",
   "execution_count": 27,
   "metadata": {},
   "outputs": [
    {
     "data": {
      "image/png": "[encoded data removed]",
      "text/plain": [
       "<Figure size 432x288 with 1 Axes>"
      ]
     },
     "metadata": {
      "needs_background": "light"
     },
     "output_type": "display_data"
    }
   ],
   "source": [
    "plt.boxplot(df[\"Profit\"])\n",
    "plt.show()"
   ]
  },
  {
   "cell_type": "code",
   "execution_count": 30,
   "metadata": {},
   "outputs": [
    {
     "name": "stdout",
     "output_type": "stream",
     "text": [
      "117641.4663\n",
      "180530.04016499998\n"
     ]
    },
    {
     "data": {
      "text/html": [
       "<div>\n",
       "<style scoped>\n",
       "    .dataframe tbody tr th:only-of-type {\n",
       "        vertical-align: middle;\n",
       "    }\n",
       "\n",
       "    .dataframe tbody tr th {\n",
       "        vertical-align: top;\n",
       "    }\n",
       "\n",
       "    .dataframe thead th {\n",
       "        text-align: right;\n",
       "    }\n",
       "</style>\n",
       "<table border=\"1\" class=\"dataframe\">\n",
       "  <thead>\n",
       "    <tr style=\"text-align: right;\">\n",
       "      <th></th>\n",
       "      <th>R&amp;D Spend</th>\n",
       "      <th>Administration</th>\n",
       "      <th>Marketing Spend</th>\n",
       "      <th>Profit</th>\n",
       "    </tr>\n",
       "  </thead>\n",
       "  <tbody>\n",
       "    <tr>\n",
       "      <th>count</th>\n",
       "      <td>1000.000000</td>\n",
       "      <td>1000.0</td>\n",
       "      <td>1000.000000</td>\n",
       "      <td>1000.0</td>\n",
       "    </tr>\n",
       "    <tr>\n",
       "      <th>mean</th>\n",
       "      <td>81668.927200</td>\n",
       "      <td>128.0</td>\n",
       "      <td>226205.058419</td>\n",
       "      <td>128.0</td>\n",
       "    </tr>\n",
       "    <tr>\n",
       "      <th>std</th>\n",
       "      <td>46537.567891</td>\n",
       "      <td>0.0</td>\n",
       "      <td>91578.393542</td>\n",
       "      <td>0.0</td>\n",
       "    </tr>\n",
       "    <tr>\n",
       "      <th>min</th>\n",
       "      <td>0.000000</td>\n",
       "      <td>128.0</td>\n",
       "      <td>0.000000</td>\n",
       "      <td>128.0</td>\n",
       "    </tr>\n",
       "    <tr>\n",
       "      <th>25%</th>\n",
       "      <td>43084.500000</td>\n",
       "      <td>128.0</td>\n",
       "      <td>150969.584600</td>\n",
       "      <td>128.0</td>\n",
       "    </tr>\n",
       "    <tr>\n",
       "      <th>50%</th>\n",
       "      <td>79936.000000</td>\n",
       "      <td>128.0</td>\n",
       "      <td>224517.887350</td>\n",
       "      <td>128.0</td>\n",
       "    </tr>\n",
       "    <tr>\n",
       "      <th>75%</th>\n",
       "      <td>124565.500000</td>\n",
       "      <td>128.0</td>\n",
       "      <td>308189.808525</td>\n",
       "      <td>128.0</td>\n",
       "    </tr>\n",
       "    <tr>\n",
       "      <th>max</th>\n",
       "      <td>165349.200000</td>\n",
       "      <td>128.0</td>\n",
       "      <td>471784.100000</td>\n",
       "      <td>128.0</td>\n",
       "    </tr>\n",
       "  </tbody>\n",
       "</table>\n",
       "</div>"
      ],
      "text/plain": [
       "           R&D Spend  Administration  Marketing Spend  Profit\n",
       "count    1000.000000          1000.0      1000.000000  1000.0\n",
       "mean    81668.927200           128.0    226205.058419   128.0\n",
       "std     46537.567891             0.0     91578.393542     0.0\n",
       "min         0.000000           128.0         0.000000   128.0\n",
       "25%     43084.500000           128.0    150969.584600   128.0\n",
       "50%     79936.000000           128.0    224517.887350   128.0\n",
       "75%    124565.500000           128.0    308189.808525   128.0\n",
       "max    165349.200000           128.0    471784.100000   128.0"
      ]
     },
     "execution_count": 30,
     "metadata": {},
     "output_type": "execute_result"
    }
   ],
   "source": [
    "print(df['Profit'].quantile(0.50)) \n",
    "print(df['Profit'].quantile(0.95)) \n",
    "df['Profit'] = np.where(df['Profit'] > 297, 128, df['Profit'])\n",
    "df.describe()"
   ]
  },
  {
   "cell_type": "code",
   "execution_count": 31,
   "metadata": {},
   "outputs": [
    {
     "data": {
      "image/png": "[encoded data removed]",
      "text/plain": [
       "<Figure size 432x288 with 1 Axes>"
      ]
     },
     "metadata": {
      "needs_background": "light"
     },
     "output_type": "display_data"
    }
   ],
   "source": [
    "plt.boxplot(df[\"Profit\"])\n",
    "plt.show()"
   ]
  },
  {
   "cell_type": "markdown",
   "metadata": {},
   "source": [
    "__Statistical Analysis__"
   ]
  },
  {
   "cell_type": "code",
   "execution_count": 32,
   "metadata": {},
   "outputs": [
    {
     "data": {
      "text/html": [
       "<div>\n",
       "<style scoped>\n",
       "    .dataframe tbody tr th:only-of-type {\n",
       "        vertical-align: middle;\n",
       "    }\n",
       "\n",
       "    .dataframe tbody tr th {\n",
       "        vertical-align: top;\n",
       "    }\n",
       "\n",
       "    .dataframe thead th {\n",
       "        text-align: right;\n",
       "    }\n",
       "</style>\n",
       "<table border=\"1\" class=\"dataframe\">\n",
       "  <thead>\n",
       "    <tr style=\"text-align: right;\">\n",
       "      <th></th>\n",
       "      <th>R&amp;D Spend</th>\n",
       "      <th>Administration</th>\n",
       "      <th>Marketing Spend</th>\n",
       "      <th>State</th>\n",
       "      <th>Profit</th>\n",
       "    </tr>\n",
       "  </thead>\n",
       "  <tbody>\n",
       "    <tr>\n",
       "      <th>0</th>\n",
       "      <td>165349.20</td>\n",
       "      <td>128.0</td>\n",
       "      <td>471784.10</td>\n",
       "      <td>New York</td>\n",
       "      <td>128.0</td>\n",
       "    </tr>\n",
       "    <tr>\n",
       "      <th>1</th>\n",
       "      <td>162597.70</td>\n",
       "      <td>128.0</td>\n",
       "      <td>443898.53</td>\n",
       "      <td>California</td>\n",
       "      <td>128.0</td>\n",
       "    </tr>\n",
       "    <tr>\n",
       "      <th>2</th>\n",
       "      <td>153441.51</td>\n",
       "      <td>128.0</td>\n",
       "      <td>407934.54</td>\n",
       "      <td>Florida</td>\n",
       "      <td>128.0</td>\n",
       "    </tr>\n",
       "    <tr>\n",
       "      <th>3</th>\n",
       "      <td>144372.41</td>\n",
       "      <td>128.0</td>\n",
       "      <td>383199.62</td>\n",
       "      <td>New York</td>\n",
       "      <td>128.0</td>\n",
       "    </tr>\n",
       "    <tr>\n",
       "      <th>4</th>\n",
       "      <td>142107.34</td>\n",
       "      <td>128.0</td>\n",
       "      <td>366168.42</td>\n",
       "      <td>Florida</td>\n",
       "      <td>128.0</td>\n",
       "    </tr>\n",
       "  </tbody>\n",
       "</table>\n",
       "</div>"
      ],
      "text/plain": [
       "   R&D Spend  Administration  Marketing Spend       State  Profit\n",
       "0  165349.20           128.0        471784.10    New York   128.0\n",
       "1  162597.70           128.0        443898.53  California   128.0\n",
       "2  153441.51           128.0        407934.54     Florida   128.0\n",
       "3  144372.41           128.0        383199.62    New York   128.0\n",
       "4  142107.34           128.0        366168.42     Florida   128.0"
      ]
     },
     "execution_count": 32,
     "metadata": {},
     "output_type": "execute_result"
    }
   ],
   "source": [
    "df.head()"
   ]
  },
  {
   "cell_type": "code",
   "execution_count": 42,
   "metadata": {},
   "outputs": [
    {
     "data": {
      "text/plain": [
       "<AxesSubplot:>"
      ]
     },
     "execution_count": 42,
     "metadata": {},
     "output_type": "execute_result"
    },
    {
     "data": {
      "image/png": "[encoded data removed]",
      "text/plain": [
       "<Figure size 432x288 with 1 Axes>"
      ]
     },
     "metadata": {
      "needs_background": "light"
     },
     "output_type": "display_data"
    }
   ],
   "source": [
    "# Patterns with High Differences in Numerical Units\n",
    "df[[\"R&D Spend\", \"Administration\",\"Marketing Spend\",\"State\", \"Profit\"]].head(10).plot.bar()"
   ]
  },
  {
   "cell_type": "code",
   "execution_count": 41,
   "metadata": {},
   "outputs": [
    {
     "data": {
      "text/plain": [
       "<AxesSubplot:>"
      ]
     },
     "execution_count": 41,
     "metadata": {},
     "output_type": "execute_result"
    },
    {
     "data": {
      "image/png": "[encoded data removed]",
      "text/plain": [
       "<Figure size 432x288 with 1 Axes>"
      ]
     },
     "metadata": {
      "needs_background": "light"
     },
     "output_type": "display_data"
    }
   ],
   "source": [
    "# Visualizing Patterns with Close Numerical Units\n",
    "df[[\"R&D Spend\",\"Marketing Spend\"]].head(10).plot.bar()\n",
    "\n",
    "#Comparison of R&D Spendind and Marketing Spending"
   ]
  },
  {
   "cell_type": "markdown",
   "metadata": {},
   "source": [
    "_So,here we can see that the outliers are treated_"
   ]
  },
  {
   "cell_type": "code",
   "execution_count": 54,
   "metadata": {},
   "outputs": [
    {
     "data": {
      "image/png": "[encoded data removed]",
      "text/plain": [
       "<Figure size 432x288 with 1 Axes>"
      ]
     },
     "metadata": {
      "needs_background": "light"
     },
     "output_type": "display_data"
    }
   ],
   "source": [
    "ProfitList = df ['Profit']\n",
    "StateList  = df ['State']\n",
    "plt.plot(ProfitList,StateList , label = 'State-wise Profit data')\n",
    "plt.xlabel('Profit in dollar')\n",
    "plt.ylabel('State')\n",
    "plt.xticks(ProfitList)\n",
    "plt.title('Company Profit per state')\n",
    "plt.show()\n",
    "\n",
    "\n"
   ]
  },
  {
   "cell_type": "markdown",
   "metadata": {},
   "source": [
    "_Here we can see that the straight line has came as the profit is same for all the states that is 128_"
   ]
  },
  {
   "cell_type": "code",
   "execution_count": 66,
   "metadata": {},
   "outputs": [
    {
     "data": {
      "image/png": "[encoded data removed]",
      "text/plain": [
       "<Figure size 432x288 with 1 Axes>"
      ]
     },
     "metadata": {
      "needs_background": "light"
     },
     "output_type": "display_data"
    }
   ],
   "source": [
    "RDList = df ['R&D Spend']\n",
    "stateList  = df ['State']\n",
    "\n",
    "plt.plot(RDList,stateList, label = 'R & D data of States', \n",
    "      color='r', marker='o', linestyle='--', linewidth=1)\n",
    "      \n",
    "plt.xlabel('R & D in dollar')\n",
    "plt.ylabel('State')\n",
    "plt.legend()\n",
    "plt.title('R&D data of last year')\n",
    "plt.xticks(RDList)\n",
    "plt.yticks([200, 400, 600, 800, 1000,1200])\n",
    "plt.show()"
   ]
  },
  {
   "cell_type": "code",
   "execution_count": 67,
   "metadata": {},
   "outputs": [
    {
     "data": {
      "image/png": "[encoded data removed]",
      "text/plain": [
       "<Figure size 432x288 with 1 Axes>"
      ]
     },
     "metadata": {
      "needs_background": "light"
     },
     "output_type": "display_data"
    }
   ],
   "source": [
    "MarketingList = df ['Marketing Spend']\n",
    "stateList  = df ['State']\n",
    "\n",
    "plt.plot(MarketingList,stateList, label = 'Marketing Spend data of States', \n",
    "      color='r', marker='o', linestyle='--', linewidth=1)\n",
    "      \n",
    "plt.xlabel('Marketing  in dollar')\n",
    "plt.ylabel('State')\n",
    "plt.legend()\n",
    "plt.title('Marketing data of last year')\n",
    "plt.xticks(MarketingList)\n",
    "plt.yticks([1000, 2000, 30000, 4000, 50000])\n",
    "plt.show()"
   ]
  },
  {
   "cell_type": "markdown",
   "metadata": {},
   "source": [
    "__Variable Categorizing__"
   ]
  },
  {
   "cell_type": "markdown",
   "metadata": {},
   "source": [
    "_We found categorical data in the dataset and for the analysis we will have to convert it into numerical data_"
   ]
  },
  {
   "cell_type": "code",
   "execution_count": 72,
   "metadata": {},
   "outputs": [
    {
     "data": {
      "text/html": [
       "<div>\n",
       "<style scoped>\n",
       "    .dataframe tbody tr th:only-of-type {\n",
       "        vertical-align: middle;\n",
       "    }\n",
       "\n",
       "    .dataframe tbody tr th {\n",
       "        vertical-align: top;\n",
       "    }\n",
       "\n",
       "    .dataframe thead th {\n",
       "        text-align: right;\n",
       "    }\n",
       "</style>\n",
       "<table border=\"1\" class=\"dataframe\">\n",
       "  <thead>\n",
       "    <tr style=\"text-align: right;\">\n",
       "      <th></th>\n",
       "      <th>Florida</th>\n",
       "      <th>New York</th>\n",
       "    </tr>\n",
       "  </thead>\n",
       "  <tbody>\n",
       "    <tr>\n",
       "      <th>0</th>\n",
       "      <td>0</td>\n",
       "      <td>1</td>\n",
       "    </tr>\n",
       "    <tr>\n",
       "      <th>1</th>\n",
       "      <td>0</td>\n",
       "      <td>0</td>\n",
       "    </tr>\n",
       "    <tr>\n",
       "      <th>2</th>\n",
       "      <td>1</td>\n",
       "      <td>0</td>\n",
       "    </tr>\n",
       "    <tr>\n",
       "      <th>3</th>\n",
       "      <td>0</td>\n",
       "      <td>1</td>\n",
       "    </tr>\n",
       "    <tr>\n",
       "      <th>4</th>\n",
       "      <td>1</td>\n",
       "      <td>0</td>\n",
       "    </tr>\n",
       "  </tbody>\n",
       "</table>\n",
       "</div>"
      ],
      "text/plain": [
       "   Florida  New York\n",
       "0        0         1\n",
       "1        0         0\n",
       "2        1         0\n",
       "3        0         1\n",
       "4        1         0"
      ]
     },
     "execution_count": 72,
     "metadata": {},
     "output_type": "execute_result"
    }
   ],
   "source": [
    "states = pd.get_dummies(df['State'], drop_first = True)\n",
    "states.head()"
   ]
  },
  {
   "cell_type": "markdown",
   "metadata": {},
   "source": [
    "__Preparing Data__"
   ]
  },
  {
   "cell_type": "code",
   "execution_count": 91,
   "metadata": {},
   "outputs": [],
   "source": [
    "dummies=pd.get_dummies(df.State)"
   ]
  },
  {
   "cell_type": "code",
   "execution_count": 93,
   "metadata": {},
   "outputs": [],
   "source": [
    "df=pd.concat([df,dummies],axis=1)"
   ]
  },
  {
   "cell_type": "code",
   "execution_count": 94,
   "metadata": {},
   "outputs": [
    {
     "data": {
      "text/html": [
       "<div>\n",
       "<style scoped>\n",
       "    .dataframe tbody tr th:only-of-type {\n",
       "        vertical-align: middle;\n",
       "    }\n",
       "\n",
       "    .dataframe tbody tr th {\n",
       "        vertical-align: top;\n",
       "    }\n",
       "\n",
       "    .dataframe thead th {\n",
       "        text-align: right;\n",
       "    }\n",
       "</style>\n",
       "<table border=\"1\" class=\"dataframe\">\n",
       "  <thead>\n",
       "    <tr style=\"text-align: right;\">\n",
       "      <th></th>\n",
       "      <th>R&amp;D Spend</th>\n",
       "      <th>Administration</th>\n",
       "      <th>Marketing Spend</th>\n",
       "      <th>Profit</th>\n",
       "      <th>California</th>\n",
       "      <th>Florida</th>\n",
       "      <th>New York</th>\n",
       "    </tr>\n",
       "  </thead>\n",
       "  <tbody>\n",
       "    <tr>\n",
       "      <th>0</th>\n",
       "      <td>165349.20</td>\n",
       "      <td>128.0</td>\n",
       "      <td>471784.1000</td>\n",
       "      <td>128.0</td>\n",
       "      <td>0</td>\n",
       "      <td>0</td>\n",
       "      <td>1</td>\n",
       "    </tr>\n",
       "    <tr>\n",
       "      <th>1</th>\n",
       "      <td>162597.70</td>\n",
       "      <td>128.0</td>\n",
       "      <td>443898.5300</td>\n",
       "      <td>128.0</td>\n",
       "      <td>1</td>\n",
       "      <td>0</td>\n",
       "      <td>0</td>\n",
       "    </tr>\n",
       "    <tr>\n",
       "      <th>2</th>\n",
       "      <td>153441.51</td>\n",
       "      <td>128.0</td>\n",
       "      <td>407934.5400</td>\n",
       "      <td>128.0</td>\n",
       "      <td>0</td>\n",
       "      <td>1</td>\n",
       "      <td>0</td>\n",
       "    </tr>\n",
       "    <tr>\n",
       "      <th>3</th>\n",
       "      <td>144372.41</td>\n",
       "      <td>128.0</td>\n",
       "      <td>383199.6200</td>\n",
       "      <td>128.0</td>\n",
       "      <td>0</td>\n",
       "      <td>0</td>\n",
       "      <td>1</td>\n",
       "    </tr>\n",
       "    <tr>\n",
       "      <th>4</th>\n",
       "      <td>142107.34</td>\n",
       "      <td>128.0</td>\n",
       "      <td>366168.4200</td>\n",
       "      <td>128.0</td>\n",
       "      <td>0</td>\n",
       "      <td>1</td>\n",
       "      <td>0</td>\n",
       "    </tr>\n",
       "    <tr>\n",
       "      <th>...</th>\n",
       "      <td>...</td>\n",
       "      <td>...</td>\n",
       "      <td>...</td>\n",
       "      <td>...</td>\n",
       "      <td>...</td>\n",
       "      <td>...</td>\n",
       "      <td>...</td>\n",
       "    </tr>\n",
       "    <tr>\n",
       "      <th>995</th>\n",
       "      <td>54135.00</td>\n",
       "      <td>128.0</td>\n",
       "      <td>173232.6695</td>\n",
       "      <td>128.0</td>\n",
       "      <td>1</td>\n",
       "      <td>0</td>\n",
       "      <td>0</td>\n",
       "    </tr>\n",
       "    <tr>\n",
       "      <th>996</th>\n",
       "      <td>134970.00</td>\n",
       "      <td>128.0</td>\n",
       "      <td>329204.0228</td>\n",
       "      <td>128.0</td>\n",
       "      <td>1</td>\n",
       "      <td>0</td>\n",
       "      <td>0</td>\n",
       "    </tr>\n",
       "    <tr>\n",
       "      <th>997</th>\n",
       "      <td>100275.47</td>\n",
       "      <td>128.0</td>\n",
       "      <td>227142.8200</td>\n",
       "      <td>128.0</td>\n",
       "      <td>1</td>\n",
       "      <td>0</td>\n",
       "      <td>0</td>\n",
       "    </tr>\n",
       "    <tr>\n",
       "      <th>998</th>\n",
       "      <td>128456.23</td>\n",
       "      <td>128.0</td>\n",
       "      <td>281692.3200</td>\n",
       "      <td>128.0</td>\n",
       "      <td>1</td>\n",
       "      <td>0</td>\n",
       "      <td>0</td>\n",
       "    </tr>\n",
       "    <tr>\n",
       "      <th>999</th>\n",
       "      <td>161181.72</td>\n",
       "      <td>128.0</td>\n",
       "      <td>295442.1700</td>\n",
       "      <td>128.0</td>\n",
       "      <td>0</td>\n",
       "      <td>0</td>\n",
       "      <td>1</td>\n",
       "    </tr>\n",
       "  </tbody>\n",
       "</table>\n",
       "<p>1000 rows × 7 columns</p>\n",
       "</div>"
      ],
      "text/plain": [
       "     R&D Spend  Administration  Marketing Spend  Profit  California  Florida  \\\n",
       "0    165349.20           128.0      471784.1000   128.0           0        0   \n",
       "1    162597.70           128.0      443898.5300   128.0           1        0   \n",
       "2    153441.51           128.0      407934.5400   128.0           0        1   \n",
       "3    144372.41           128.0      383199.6200   128.0           0        0   \n",
       "4    142107.34           128.0      366168.4200   128.0           0        1   \n",
       "..         ...             ...              ...     ...         ...      ...   \n",
       "995   54135.00           128.0      173232.6695   128.0           1        0   \n",
       "996  134970.00           128.0      329204.0228   128.0           1        0   \n",
       "997  100275.47           128.0      227142.8200   128.0           1        0   \n",
       "998  128456.23           128.0      281692.3200   128.0           1        0   \n",
       "999  161181.72           128.0      295442.1700   128.0           0        0   \n",
       "\n",
       "     New York  \n",
       "0           1  \n",
       "1           0  \n",
       "2           0  \n",
       "3           1  \n",
       "4           0  \n",
       "..        ...  \n",
       "995         0  \n",
       "996         0  \n",
       "997         0  \n",
       "998         0  \n",
       "999         1  \n",
       "\n",
       "[1000 rows x 7 columns]"
      ]
     },
     "execution_count": 94,
     "metadata": {},
     "output_type": "execute_result"
    }
   ],
   "source": [
    "df.drop(['State'],axis=1,inplace=True)\n",
    "df"
   ]
  },
  {
   "cell_type": "markdown",
   "metadata": {},
   "source": [
    "__Scaling__"
   ]
  },
  {
   "cell_type": "code",
   "execution_count": 98,
   "metadata": {},
   "outputs": [],
   "source": [
    "from sklearn.preprocessing import MinMaxScaler\n",
    "scale=MinMaxScaler()\n",
    "df[['R&D Spend','Administration']]=scale.fit_transform(df[['R&D Spend','Administration']])"
   ]
  },
  {
   "cell_type": "code",
   "execution_count": 100,
   "metadata": {},
   "outputs": [
    {
     "data": {
      "text/plain": [
       "array([471784.1    , 443898.53   , 407934.54   , 383199.62   ,\n",
       "       366168.42   , 362861.36   , 127716.82   , 323876.68   ,\n",
       "       311613.29   , 304981.62   , 229160.95   , 249744.55   ,\n",
       "       249839.44   , 252664.93   , 256512.92   , 261776.23   ,\n",
       "       264346.06   , 282574.31   , 294919.57   ,      0.     ,\n",
       "       298664.47   , 299737.29   , 303319.26   , 304768.73   ,\n",
       "       140574.81   , 137962.62   , 134050.07   , 353183.81   ,\n",
       "       118148.2    , 107138.38   ,  91131.24   ,  88218.23   ,\n",
       "        46085.25   , 214634.81   , 210797.67   , 205517.64   ,\n",
       "       201126.82   , 197029.42   , 185265.1    , 174999.3    ,\n",
       "       172795.67   , 164470.71   , 148001.11   ,  35534.17   ,\n",
       "        28334.72   ,   1903.93   , 297114.46   ,      0.     ,\n",
       "            0.     ,  45173.06   , 236937.1317 , 143589.7191 ,\n",
       "       242316.5853 , 195132.5255 , 160862.6275 , 128099.6711 ,\n",
       "       216156.3873 , 346478.8607 , 121415.8737 , 341016.4385 ,\n",
       "       316407.5606 , 216694.7185 , 151917.4528 , 186391.8781 ,\n",
       "        92033.40609, 312955.6803 , 113130.5889 , 359425.824  ,\n",
       "       171266.5062 , 373491.8989 , 144332.5776 , 284435.7004 ,\n",
       "       195939.0576 , 234330.3735 , 338515.8029 ,  95689.81377,\n",
       "       325584.2756 , 368137.5289 , 124215.5821 , 149522.94   ,\n",
       "       339443.8938 , 122023.667  ,  86295.06497, 110429.2851 ,\n",
       "        77133.786  , 274774.6802 , 334313.346  , 190648.3612 ,\n",
       "       135123.0611 , 210464.3542 , 101821.7734 , 280053.7997 ,\n",
       "       219986.4502 , 258236.9123 , 310271.742  , 336150.2326 ,\n",
       "       158394.7935 , 328758.3076 , 255207.593  , 340447.2352 ,\n",
       "       153709.9609 , 358864.3387 , 314846.5929 ,  86648.16397,\n",
       "       180506.8948 , 155025.8817 , 361779.8174 , 187661.4909 ,\n",
       "       300849.9801 , 113589.8106 , 272015.4913 , 114124.2829 ,\n",
       "        82463.07255, 265850.7301 , 234276.3474 , 306663.5719 ,\n",
       "       217335.3134 ,  83665.15275, 124935.2867 , 348549.2171 ,\n",
       "       250478.3818 , 219783.8524 , 340649.833  , 323174.3267 ,\n",
       "        71227.57814, 153657.8643 , 165012.9879 , 271511.8911 ,\n",
       "       249363.1293 , 209781.3102 , 251209.6634 , 361978.5561 ,\n",
       "       186216.2934 , 267112.6249 , 171650.4773 , 293996.3864 ,\n",
       "       163880.3698 , 349546.77   , 355335.2782 , 212992.0028 ,\n",
       "       269898.8268 , 135761.7265 , 276117.6141 , 369812.3372 ,\n",
       "       249918.826  , 302517.0705 , 260345.8588 , 340711.577  ,\n",
       "       204972.9894 , 232466.4738 , 204033.3216 , 340470.3892 ,\n",
       "       322624.4184 , 345334.6656 , 268976.5245 , 196502.4724 ,\n",
       "       277562.8117 , 341029.945  , 244861.5994 , 228485.9097 ,\n",
       "       191020.7552 , 152980.6088 , 196710.8587 , 301947.8672 ,\n",
       "       188346.4644 , 333869.5604 , 149466.9844 , 279407.4163 ,\n",
       "       309287.6956 , 359331.2784 , 209050.0287 , 279862.7789 ,\n",
       "       106682.1908 , 158755.6105 , 240971.7219 , 327230.1415 ,\n",
       "       307076.4854 , 299422.1481 , 360734.0269 , 198350.9361 ,\n",
       "       131142.4969 , 206995.1083 , 234870.6342 ,  80462.17821,\n",
       "       124831.0935 , 223089.0906 , 102165.2249 , 109809.9147 ,\n",
       "       367724.6153 , 368083.5028 , 312488.7406 , 368149.1059 ,\n",
       "       171193.1851 , 130204.7586 , 160366.7453 , 357442.2952 ,\n",
       "       214562.618  , 126247.3485 , 158255.8693 , 170490.8461 ,\n",
       "       289763.0574 , 327426.9507 , 271691.3349 , 232414.3773 ,\n",
       "       160391.8288 , 171013.7414 , 318300.4028 , 141363.0729 ,\n",
       "       223872.4687 ,  96697.01419, 341230.6133 , 345726.3546 ,\n",
       "       247732.6995 , 128039.8566 , 205708.13   , 287735.1501 ,\n",
       "        78633.00963, 283359.0379 ,  80676.35302,  89536.62956,\n",
       "       107118.2584 , 232433.6723 , 161117.3219 , 369320.314  ,\n",
       "       111980.6053 , 266502.902  , 209692.5531 , 278334.6128 ,\n",
       "       151890.4398 , 233419.6482 , 176252.3413 , 162859.6628 ,\n",
       "       309075.4503 , 235738.9105 , 213680.8353 , 328181.3863 ,\n",
       "       113840.646  , 182326.4159 ,  76215.3427 ,  90601.71506,\n",
       "       139238.6904 , 194561.3927 ,  73801.53479,  73980.97854,\n",
       "        78249.03858, 104102.4457 , 349367.3263 , 309903.2069 ,\n",
       "       225304.1597 , 161678.8072 , 276208.3008 , 221144.1518 ,\n",
       "        91107.24478, 103373.0936 , 329292.7799 , 339872.2434 ,\n",
       "       205719.707  , 113242.5001 , 190293.3327 , 315656.9841 ,\n",
       "       339029.0507 , 343991.7317 , 167968.9861 , 206532.0276 ,\n",
       "       243759.8533 , 253011.8189 , 222942.4484 , 223747.051  ,\n",
       "       294440.1721 , 217705.778  , 342390.2444 , 167536.7775 ,\n",
       "       280476.3608 , 339291.463  ,  84828.64289, 320868.571  ,\n",
       "       325009.2838 , 289878.8276 ,  96465.47386, 212447.883  ,\n",
       "       220648.2696 , 204864.9373 , 191265.802  ,  93800.83059,\n",
       "        82769.86348, 124566.7516 , 179667.5611 , 144569.9064 ,\n",
       "       339457.4003 , 195178.8336 , 291709.9257 , 367996.6752 ,\n",
       "       173188.2909 , 165773.212  , 243285.1957 , 351773.4162 ,\n",
       "       225147.87   , 305463.4212 , 170552.5902 , 337329.1588 ,\n",
       "       191219.494  , 321522.6724 , 199747.896  , 349531.334  ,\n",
       "       123260.4783 , 287513.2573 , 328850.9238 , 375043.2191 ,\n",
       "       301322.7083 , 185459.9283 , 366126.987  , 146381.7095 ,\n",
       "       231640.6467 , 108582.751  , 237679.9902 , 297482.9979 ,\n",
       "       318311.9798 , 154576.3076 , 176651.7484 , 195535.7916 ,\n",
       "       355545.594  , 340119.2197 , 371157.2006 , 262898.5909 ,\n",
       "       116688.592  , 341145.7152 , 264791.4331 ,  71123.385  ,\n",
       "        94381.61091, 369162.0948 , 166477.4805 , 374869.5639 ,\n",
       "       264280.1149 , 124696.0283 , 320916.8085 , 231885.6935 ,\n",
       "       264089.0941 , 306651.9948 , 221227.1204 , 280717.5486 ,\n",
       "       254051.8209 , 332829.5584 , 347379.9385 , 280364.4496 ,\n",
       "       165350.6509 , 184877.2185 , 284966.3136 , 268519.2324 ,\n",
       "       323529.3552 , 167903.383  , 202914.21   , 276599.9898 ,\n",
       "       310707.8096 , 370547.4778 , 297897.841  , 138256.5735 ,\n",
       "        84135.95141, 303420.0778 , 287137.0042 , 247576.4097 ,\n",
       "       139861.9198 , 347902.8337 , 188892.5137 , 164109.9806 ,\n",
       "       315253.718  ,  80550.93534, 344653.5511 , 336071.123  ,\n",
       "       305924.5723 , 196323.0287 , 105304.5259 , 105252.4293 ,\n",
       "       340267.7914 , 285095.5903 , 344786.6868 , 166921.2661 ,\n",
       "       323782.1201 , 201760.3674 , 373538.207  , 301644.9353 ,\n",
       "        75285.32239, 171065.8379 , 192716.7881 , 266632.1787 ,\n",
       "       122797.3976 ,  74781.72217, 197924.516  , 296483.5154 ,\n",
       "       103880.5529 , 229913.7417 , 307587.8037 , 154495.2685 ,\n",
       "       345514.1093 , 314192.4915 , 111255.1123 , 354976.3907 ,\n",
       "        78140.98643, 237305.6667 ,  92728.02707, 196859.4305 ,\n",
       "       330768.8495 , 366013.1464 , 244869.3174 , 345807.3938 ,\n",
       "       241795.6195 ,  75989.59088,  93507.54618, 158983.2918 ,\n",
       "       101017.1708 ,  90538.04147, 131985.6896 , 321686.6801 ,\n",
       "       133859.2368 , 178197.28   , 152220.3848 , 296354.2388 ,\n",
       "       249251.2181 , 138906.8159 , 306397.3005 , 351966.3665 ,\n",
       "       310786.9192 , 119243.2536 , 287067.5421 , 375938.5084 ,\n",
       "       113699.7923 , 348630.2563 , 298420.7362 , 376669.7899 ,\n",
       "       197486.5188 , 255400.5433 , 217410.564  , 177958.0217 ,\n",
       "       134901.1683 , 151751.5156 , 243603.5636 , 109871.6588 ,\n",
       "       353280.3578 ,  91799.93626, 190083.0169 , 276902.9217 ,\n",
       "       313368.5938 , 162012.6111 , 324920.5267 , 242881.9296 ,\n",
       "        90804.31285, 331899.5381 , 162550.9424 , 321947.163  ,\n",
       "       155230.409  , 122313.0924 , 177657.0193 , 113082.3514 ,\n",
       "       313829.745  , 151211.2548 , 139939.0999 , 327370.9952 ,\n",
       "       272160.204  , 331123.878  , 112403.1664 , 162537.4359 ,\n",
       "       156853.1208 , 104835.6567 , 375828.5267 , 117390.931  ,\n",
       "       164038.589  , 230851.4801 , 314022.6953 , 286073.8482 ,\n",
       "       105034.3955 , 129616.2603 , 367390.8113 , 189029.5084 ,\n",
       "       335800.9926 , 173815.3793 , 317063.5916 , 138962.7715 ,\n",
       "       245046.8317 , 375620.1405 , 109997.0765 , 132493.1489 ,\n",
       "       330054.9335 , 149810.4359 , 319409.8669 , 124881.2606 ,\n",
       "       186420.8207 , 200274.6503 , 222388.6811 , 310107.7342 ,\n",
       "       278375.1323 , 143155.5809 , 279872.4264 , 281767.1981 ,\n",
       "       121734.2416 , 260963.2997 ,  88791.8415 , 351144.3983 ,\n",
       "       107718.3338 , 272274.0447 , 181708.975  , 276661.7339 ,\n",
       "       311143.8772 , 156953.455  , 243505.159  , 106342.5983 ,\n",
       "       262705.6406 , 208656.4101 , 191055.4862 , 149582.7545 ,\n",
       "       273233.0075 , 113211.6281 , 175343.5455 , 180379.5476 ,\n",
       "       285695.6657 , 271048.8105 , 271384.5439 , 133367.2136 ,\n",
       "       264393.9555 , 165051.5779 , 340647.9035 , 259821.0341 ,\n",
       "       117286.7378 , 238708.4152 ,  80267.29844, 351754.1212 ,\n",
       "       300898.2177 , 365766.17   ,  82192.94216, 116125.1772 ,\n",
       "       133838.0123 , 185149.2784 , 373841.1389 , 300830.6851 ,\n",
       "       305804.9431 , 371568.1847 , 165470.28   ,  92064.27813,\n",
       "       219469.3435 , 203385.0087 , 371078.091  , 281151.6868 ,\n",
       "       356954.131  , 307894.5946 , 368978.7921 , 183682.8563 ,\n",
       "       132244.243  , 355030.4168 , 134549.9988 ,  86439.77767,\n",
       "       341012.5795 , 128433.4751 , 292663.1    , 283731.4319 ,\n",
       "       279266.5626 , 354183.3651 , 224843.0086 , 203714.9537 ,\n",
       "       200567.9347 , 230459.791  , 297712.6087 , 197604.2185 ,\n",
       "       321312.3566 , 288916.0057 , 178727.8933 , 242575.1387 ,\n",
       "       120393.2372 , 251809.7387 , 193270.5554 , 197828.0408 ,\n",
       "       290486.621  , 277686.2998 , 215471.4138 , 374929.3785 ,\n",
       "        80134.16275, 130536.6331 , 182316.7684 , 180425.8557 ,\n",
       "       351045.9937 , 247896.7072 , 356325.1131 , 201216.2476 ,\n",
       "       162396.5822 , 138067.4822 , 149073.3658 , 334496.6487 ,\n",
       "       125288.3857 , 251402.6136 , 149003.9037 , 254026.7374 ,\n",
       "       220495.8389 , 105906.5307 , 247271.5483 , 246623.2354 ,\n",
       "       203987.0135 , 357428.7887 ,  82237.32073, 368938.2725 ,\n",
       "       190384.0193 ,  87996.88638, 106001.0764 , 324339.7464 ,\n",
       "        74739.27311, 269771.4796 , 365162.2357 ,  94472.29754,\n",
       "       361312.8777 , 369233.4864 , 216424.5881 , 150244.574  ,\n",
       "       312828.3331 , 296879.0635 , 245436.5912 , 306287.3188 ,\n",
       "       242748.7939 , 270201.7588 , 186947.5749 , 186058.0742 ,\n",
       "       101169.6015 , 363502.8633 , 375569.9734 , 189809.0275 ,\n",
       "       355155.8345 , 330971.4473 , 261293.2446 ,  96500.20491,\n",
       "       331820.4285 , 133454.0412 , 305974.7394 , 210190.3648 ,\n",
       "       198613.3484 , 112918.3436 , 310182.9848 , 239671.237  ,\n",
       "       348250.1442 , 376029.195  , 313968.6692 , 199400.5855 ,\n",
       "       194789.074  , 231302.9837 ,  85916.88243, 318535.8022 ,\n",
       "       354881.8451 , 181130.1242 , 332933.7515 ,  76857.86711,\n",
       "       224192.7661 , 138823.8473 , 138872.0849 , 269086.5062 ,\n",
       "       295644.1818 , 366350.8093 , 191582.2405 , 157474.4207 ,\n",
       "       186135.2543 , 276682.9584 , 280078.8832 , 353664.3289 ,\n",
       "        86754.28662, 204459.7417 , 336063.405  , 305015.7765 ,\n",
       "       244529.7249 , 130918.6746 , 105418.3665 , 346015.7801 ,\n",
       "       226681.8247 , 338122.1844 , 173113.0403 ,  91888.69339,\n",
       "       327247.507  , 325615.1477 ,  86266.12243, 138289.3751 ,\n",
       "       146302.5999 , 126305.2336 , 287711.996  ,  93061.83105,\n",
       "       260311.1278 , 120015.0547 , 164563.4137 , 330205.4347 ,\n",
       "       180273.425  , 166959.8561 , 265916.3332 , 138262.362  ,\n",
       "       285091.7313 , 171006.0234 , 185224.529  , 142843.0015 ,\n",
       "       104729.5341 , 214323.3597 , 221578.2899 , 216357.0555 ,\n",
       "       182260.8128 , 206476.0721 , 239829.4563 , 326535.5205 ,\n",
       "       285124.5329 , 274047.2577 ,  72022.53327, 166643.4177 ,\n",
       "       316170.2318 , 136840.3185 , 192709.0701 , 180207.8219 ,\n",
       "       369555.7134 , 116659.6494 ,  78831.74841, 229846.2091 ,\n",
       "       281952.4304 ,  86296.99447, 208395.9273 , 283920.5232 ,\n",
       "       161553.3895 , 151303.871  , 181201.5158 ,  97976.2745 ,\n",
       "       246513.2537 , 116773.4901 , 318124.8181 ,  73209.17745,\n",
       "       146925.8293 , 157877.6868 , 338386.5263 , 156150.7818 ,\n",
       "       349944.2476 , 358964.6729 , 367423.6129 , 228871.8103 ,\n",
       "       301889.9821 , 280678.9586 , 356523.8519 , 329402.7615 ,\n",
       "        87356.29147, 358804.5242 , 294995.8688 , 253208.6282 ,\n",
       "       201949.4587 , 209320.1591 , 237400.2123 , 326496.9304 ,\n",
       "       164403.265  , 334998.3195 ,  83705.6723 ,  89438.22492,\n",
       "       311606.9579 , 194875.9016 , 367836.5264 , 330440.834  ,\n",
       "       258196.3928 , 142291.1637 , 245903.5309 , 220133.0924 ,\n",
       "       323091.3581 , 275579.2829 ,  73845.91335, 231885.6935 ,\n",
       "       106803.7495 ,  94099.90352,  76105.36105, 324829.8401 ,\n",
       "       112094.446  , 228977.9329 , 122137.5077 , 371311.5609 ,\n",
       "       211120.3851 , 125639.5552 , 329190.5162 , 351605.5495 ,\n",
       "       227895.4819 , 223729.6855 , 319979.0702 , 301737.5514 ,\n",
       "       198424.2572 , 230071.961  , 277418.099  ,  75675.08194,\n",
       "       258470.3821 , 348695.8593 , 326249.9541 , 204849.5013 ,\n",
       "       283565.4947 , 274890.4504 , 277113.2375 ,  89015.66382,\n",
       "       242551.9846 , 230699.0493 , 249341.9047 , 105337.3274 ,\n",
       "       184805.8269 , 359863.8212 , 269364.3546 , 246930.0263 ,\n",
       "       306248.7288 , 342770.3565 ,  93021.31149, 162917.5479 ,\n",
       "       168717.6331 , 154634.1927 , 136848.0365 , 367936.8606 ,\n",
       "       351981.8025 , 102414.1308 , 276416.687  ,  82698.47188,\n",
       "       276202.5122 , 341419.7045 , 146501.3387 , 375948.1559 ,\n",
       "       338035.3568 , 311477.6812 , 303373.7697 , 336103.9245 ,\n",
       "       326697.5987 , 252616.2709 , 155027.8112 , 241413.578  ,\n",
       "       350799.0173 , 280848.7548 , 130492.2545 , 315363.6997 ,\n",
       "       111015.854  , 177886.6301 , 343044.3458 , 230733.7804 ,\n",
       "       296076.3904 , 137621.7671 , 337807.6754 , 343046.2753 ,\n",
       "       241867.0112 , 102003.1467 , 318030.2724 , 122617.9539 ,\n",
       "       239403.0362 , 357806.9712 , 334268.9674 , 281778.7751 ,\n",
       "       341257.6263 , 125901.9675 , 375128.1173 , 265316.2578 ,\n",
       "       374782.7363 , 172748.3643 , 343231.5076 , 288232.9618 ,\n",
       "       204998.073  , 297990.4571 ,  83998.95672, 156976.609  ,\n",
       "       206202.0827 , 376490.3462 , 158128.5221 , 153968.5142 ,\n",
       "       182089.087  , 179275.8721 , 330014.4139 , 349971.2607 ,\n",
       "       207299.9697 , 283688.9828 , 190152.479  , 156009.9281 ,\n",
       "       367070.5139 , 104766.1946 , 365162.2357 , 275569.6353 ,\n",
       "       120138.5429 , 133363.3546 ,  73869.06738, 140662.6634 ,\n",
       "       152502.0922 , 257233.5709 ,  71931.84664, 182592.6873 ,\n",
       "       178125.8884 , 271772.374  , 292609.074  , 317542.1083 ,\n",
       "       143757.5858 , 185608.5    , 214259.6861 ,  99267.11183,\n",
       "       154784.6939 , 249382.4243 ,  79206.07194, 193287.9209 ,\n",
       "       102535.6895 , 336140.5851 , 221393.0577 , 332023.0262 ,\n",
       "       158456.5376 , 303360.2632 , 104322.409  ,  73953.9655 ,\n",
       "        86926.01236, 107907.4251 , 118926.8152 , 333900.4324 ,\n",
       "        87821.30163, 140539.1752 , 118174.3091 , 317709.975  ,\n",
       "       212098.643  , 220619.3271 , 233394.5647 , 322771.0607 ,\n",
       "       322699.6691 , 355588.0431 , 225043.6768 , 262906.3089 ,\n",
       "       365436.225  , 273611.1901 , 148610.2852 , 362273.7701 ,\n",
       "       179111.8643 ,  82104.18504, 172935.5261 , 197976.6125 ,\n",
       "       192506.4723 , 262319.7401 , 351852.5258 , 144419.4052 ,\n",
       "       106522.0421 , 176171.3022 , 116482.1352 , 169452.7737 ,\n",
       "       301095.027  , 137139.3914 , 146746.3855 ,  95018.34682,\n",
       "       236358.2809 ,  76568.4417 , 322722.8231 , 201245.1902 ,\n",
       "       275417.2046 , 188678.3389 ,  87097.73811, 317663.6669 ,\n",
       "       327706.7286 , 313748.7059 , 164974.3978 , 314779.0603 ,\n",
       "       172543.837  , 294509.6342 , 316058.3207 , 208021.6037 ,\n",
       "       289348.2144 ,  90399.11728, 229996.7104 , 323436.7391 ,\n",
       "       130787.4684 , 173003.0587 , 193449.9991 ,  91207.57892,\n",
       "       129726.2419 ,  93106.20961, 250844.9874 ,  73230.40198,\n",
       "       132763.2792 , 377009.3824 , 366283.2767 , 347630.7738 ,\n",
       "       274805.5523 , 100536.7246 , 345195.7414 , 210578.1949 ,\n",
       "       237357.7633 , 167864.7929 , 196220.765  , 126129.6488 ,\n",
       "       350717.9782 ,  98570.56134,  95514.22902, 207373.2908 ,\n",
       "       321841.0403 , 201295.3572 , 277273.3863 , 339196.9174 ,\n",
       "       178471.2694 , 160310.7897 , 182363.0764 ,  93696.63744,\n",
       "       189515.7431 , 171247.2112 , 307144.018  , 163133.6522 ,\n",
       "       271652.7448 , 191524.3554 , 262510.7609 , 148446.2774 ,\n",
       "       145901.2633 , 152774.1521 , 331448.0344 , 321748.4242 ,\n",
       "       271621.8728 , 159075.908  , 256344.0701 , 173232.6695 ,\n",
       "       329204.0228 , 227142.82   , 281692.32   , 295442.17   ])"
      ]
     },
     "execution_count": 100,
     "metadata": {},
     "output_type": "execute_result"
    }
   ],
   "source": [
    "y=df.iloc[:,2].values\n",
    "y"
   ]
  },
  {
   "cell_type": "markdown",
   "metadata": {},
   "source": [
    "df.drop(['Profit'],axis=1,inplace=True)\n",
    "df"
   ]
  },
  {
   "cell_type": "code",
   "execution_count": 102,
   "metadata": {},
   "outputs": [
    {
     "data": {
      "text/plain": [
       "(1000, 6)"
      ]
     },
     "execution_count": 102,
     "metadata": {},
     "output_type": "execute_result"
    }
   ],
   "source": [
    "X=df.iloc[:,:].values\n",
    "X.shape"
   ]
  },
  {
   "cell_type": "markdown",
   "metadata": {},
   "source": [
    "__Splitting dataset into train and test__"
   ]
  },
  {
   "cell_type": "code",
   "execution_count": 103,
   "metadata": {},
   "outputs": [],
   "source": [
    "from sklearn.model_selection import train_test_split\n",
    "X_train,X_test,y_train,y_test = train_test_split(X,y,test_size=0.25,random_state=0)"
   ]
  },
  {
   "cell_type": "markdown",
   "metadata": {},
   "source": [
    "__Fitting model to training set__"
   ]
  },
  {
   "cell_type": "code",
   "execution_count": 104,
   "metadata": {},
   "outputs": [
    {
     "data": {
      "text/plain": [
       "LinearRegression()"
      ]
     },
     "execution_count": 104,
     "metadata": {},
     "output_type": "execute_result"
    }
   ],
   "source": [
    "from sklearn.linear_model import LinearRegression\n",
    "lin_reg = LinearRegression()\n",
    "lin_reg.fit(X_train,y_train)"
   ]
  },
  {
   "cell_type": "markdown",
   "metadata": {},
   "source": [
    "__Predicting the test dataset__"
   ]
  },
  {
   "cell_type": "code",
   "execution_count": 105,
   "metadata": {},
   "outputs": [],
   "source": [
    "y_pred = lin_reg.predict(X_test)"
   ]
  },
  {
   "cell_type": "markdown",
   "metadata": {},
   "source": [
    "__Finding coefficients and intercepts__"
   ]
  },
  {
   "cell_type": "code",
   "execution_count": 106,
   "metadata": {},
   "outputs": [
    {
     "name": "stdout",
     "output_type": "stream",
     "text": [
      "[-1.21878121e-10 -4.44089210e-16  1.00000000e+00 -1.55387899e-12\n",
      "  3.09834791e-12 -1.54446892e-12]\n"
     ]
    }
   ],
   "source": [
    "\n",
    "# coefficient \n",
    "print(lin_reg.coef_)"
   ]
  },
  {
   "cell_type": "code",
   "execution_count": 107,
   "metadata": {},
   "outputs": [
    {
     "name": "stdout",
     "output_type": "stream",
     "text": [
      "2.6193447411060333e-10\n"
     ]
    }
   ],
   "source": [
    "# intercepts\n",
    "print(lin_reg.intercept_)"
   ]
  },
  {
   "cell_type": "markdown",
   "metadata": {},
   "source": [
    "__Evaluating the model__"
   ]
  },
  {
   "cell_type": "code",
   "execution_count": 108,
   "metadata": {},
   "outputs": [
    {
     "data": {
      "text/plain": [
       "1.0"
      ]
     },
     "execution_count": 108,
     "metadata": {},
     "output_type": "execute_result"
    }
   ],
   "source": [
    "# calculating the  R squared error\n",
    "from sklearn.metrics import r2_score\n",
    "r2_score(y_test,y_pred)"
   ]
  },
  {
   "cell_type": "code",
   "execution_count": 109,
   "metadata": {},
   "outputs": [
    {
     "data": {
      "text/plain": [
       "1.0"
      ]
     },
     "execution_count": 109,
     "metadata": {},
     "output_type": "execute_result"
    }
   ],
   "source": [
    "import statistics\n",
    "SSE = sum((y_pred -  y_test)**2)\n",
    "SST = sum((statistics.mean(y_pred)-y_test)**2)\n",
    "R2=1-SSE/SST\n",
    "R2"
   ]
  },
  {
   "cell_type": "code",
   "execution_count": 112,
   "metadata": {},
   "outputs": [
    {
     "data": {
      "text/html": [
       "<div>\n",
       "<style scoped>\n",
       "    .dataframe tbody tr th:only-of-type {\n",
       "        vertical-align: middle;\n",
       "    }\n",
       "\n",
       "    .dataframe tbody tr th {\n",
       "        vertical-align: top;\n",
       "    }\n",
       "\n",
       "    .dataframe thead th {\n",
       "        text-align: right;\n",
       "    }\n",
       "</style>\n",
       "<table border=\"1\" class=\"dataframe\">\n",
       "  <thead>\n",
       "    <tr style=\"text-align: right;\">\n",
       "      <th></th>\n",
       "      <th>Actual</th>\n",
       "      <th>Predicted</th>\n",
       "    </tr>\n",
       "  </thead>\n",
       "  <tbody>\n",
       "    <tr>\n",
       "      <th>0</th>\n",
       "      <td>159075.9080</td>\n",
       "      <td>159075.9080</td>\n",
       "    </tr>\n",
       "    <tr>\n",
       "      <th>1</th>\n",
       "      <td>156009.9281</td>\n",
       "      <td>156009.9281</td>\n",
       "    </tr>\n",
       "    <tr>\n",
       "      <th>2</th>\n",
       "      <td>170552.5902</td>\n",
       "      <td>170552.5902</td>\n",
       "    </tr>\n",
       "    <tr>\n",
       "      <th>3</th>\n",
       "      <td>354183.3651</td>\n",
       "      <td>354183.3651</td>\n",
       "    </tr>\n",
       "    <tr>\n",
       "      <th>4</th>\n",
       "      <td>146302.5999</td>\n",
       "      <td>146302.5999</td>\n",
       "    </tr>\n",
       "  </tbody>\n",
       "</table>\n",
       "</div>"
      ],
      "text/plain": [
       "        Actual    Predicted\n",
       "0  159075.9080  159075.9080\n",
       "1  156009.9281  156009.9281\n",
       "2  170552.5902  170552.5902\n",
       "3  354183.3651  354183.3651\n",
       "4  146302.5999  146302.5999"
      ]
     },
     "execution_count": 112,
     "metadata": {},
     "output_type": "execute_result"
    }
   ],
   "source": [
    "df = pd.DataFrame({'Actual': y_test, 'Predicted': y_pred})\n",
    "df.head()"
   ]
  },
  {
   "cell_type": "code",
   "execution_count": null,
   "metadata": {},
   "outputs": [],
   "source": []
  }
 ],
 "metadata": {
  "kernelspec": {
   "display_name": "Python 3",
   "language": "python",
   "name": "python3"
  },
  "language_info": {
   "codemirror_mode": {
    "name": "ipython",
    "version": 3
   },
   "file_extension": ".py",
   "mimetype": "text/x-python",
   "name": "python",
   "nbconvert_exporter": "python",
   "pygments_lexer": "ipython3",
   "version": "3.8.5"
  }
 },
 "nbformat": 4,
 "nbformat_minor": 4
}
